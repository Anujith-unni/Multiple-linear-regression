{
 "cells": [
  {
   "cell_type": "code",
   "execution_count": 1,
   "metadata": {},
   "outputs": [],
   "source": [
    "#import libraries\n",
    "import pandas as pd\n",
    "import numpy as np\n",
    "import matplotlib.pyplot as plt\n",
    "from sklearn import linear_model"
   ]
  },
  {
   "cell_type": "code",
   "execution_count": 4,
   "metadata": {},
   "outputs": [],
   "source": [
    "hp=pd.read_csv(\"F:/ANUJITH FILES/ASB FILES/ACAD-4/dtasets/Hprice.csv\")"
   ]
  },
  {
   "cell_type": "code",
   "execution_count": 5,
   "metadata": {},
   "outputs": [
    {
     "data": {
      "text/html": [
       "<div>\n",
       "<style scoped>\n",
       "    .dataframe tbody tr th:only-of-type {\n",
       "        vertical-align: middle;\n",
       "    }\n",
       "\n",
       "    .dataframe tbody tr th {\n",
       "        vertical-align: top;\n",
       "    }\n",
       "\n",
       "    .dataframe thead th {\n",
       "        text-align: right;\n",
       "    }\n",
       "</style>\n",
       "<table border=\"1\" class=\"dataframe\">\n",
       "  <thead>\n",
       "    <tr style=\"text-align: right;\">\n",
       "      <th></th>\n",
       "      <th>Area</th>\n",
       "      <th>Bedroom</th>\n",
       "      <th>Age</th>\n",
       "      <th>Price</th>\n",
       "    </tr>\n",
       "  </thead>\n",
       "  <tbody>\n",
       "    <tr>\n",
       "      <th>0</th>\n",
       "      <td>2500</td>\n",
       "      <td>3.0</td>\n",
       "      <td>20</td>\n",
       "      <td>550000</td>\n",
       "    </tr>\n",
       "    <tr>\n",
       "      <th>1</th>\n",
       "      <td>3000</td>\n",
       "      <td>4.0</td>\n",
       "      <td>15</td>\n",
       "      <td>565000</td>\n",
       "    </tr>\n",
       "    <tr>\n",
       "      <th>2</th>\n",
       "      <td>3200</td>\n",
       "      <td>NaN</td>\n",
       "      <td>18</td>\n",
       "      <td>610000</td>\n",
       "    </tr>\n",
       "    <tr>\n",
       "      <th>3</th>\n",
       "      <td>3600</td>\n",
       "      <td>3.0</td>\n",
       "      <td>30</td>\n",
       "      <td>595000</td>\n",
       "    </tr>\n",
       "    <tr>\n",
       "      <th>4</th>\n",
       "      <td>4000</td>\n",
       "      <td>5.0</td>\n",
       "      <td>8</td>\n",
       "      <td>760000</td>\n",
       "    </tr>\n",
       "  </tbody>\n",
       "</table>\n",
       "</div>"
      ],
      "text/plain": [
       "   Area  Bedroom  Age   Price\n",
       "0  2500      3.0   20  550000\n",
       "1  3000      4.0   15  565000\n",
       "2  3200      NaN   18  610000\n",
       "3  3600      3.0   30  595000\n",
       "4  4000      5.0    8  760000"
      ]
     },
     "execution_count": 5,
     "metadata": {},
     "output_type": "execute_result"
    }
   ],
   "source": [
    "hp"
   ]
  },
  {
   "cell_type": "code",
   "execution_count": 7,
   "metadata": {},
   "outputs": [],
   "source": [
    "#imputation or tackling with missing values\n",
    "import math\n",
    "median_Bedrooms=math.floor(hp.Bedroom.median())"
   ]
  },
  {
   "cell_type": "code",
   "execution_count": 8,
   "metadata": {},
   "outputs": [
    {
     "data": {
      "text/plain": [
       "3"
      ]
     },
     "execution_count": 8,
     "metadata": {},
     "output_type": "execute_result"
    }
   ],
   "source": [
    "median_Bedrooms\n"
   ]
  },
  {
   "cell_type": "code",
   "execution_count": 13,
   "metadata": {},
   "outputs": [],
   "source": [
    "hp.Bedroom=hp.Bedroom.fillna(median_Bedrooms)"
   ]
  },
  {
   "cell_type": "code",
   "execution_count": 14,
   "metadata": {},
   "outputs": [
    {
     "data": {
      "text/html": [
       "<div>\n",
       "<style scoped>\n",
       "    .dataframe tbody tr th:only-of-type {\n",
       "        vertical-align: middle;\n",
       "    }\n",
       "\n",
       "    .dataframe tbody tr th {\n",
       "        vertical-align: top;\n",
       "    }\n",
       "\n",
       "    .dataframe thead th {\n",
       "        text-align: right;\n",
       "    }\n",
       "</style>\n",
       "<table border=\"1\" class=\"dataframe\">\n",
       "  <thead>\n",
       "    <tr style=\"text-align: right;\">\n",
       "      <th></th>\n",
       "      <th>Area</th>\n",
       "      <th>Bedroom</th>\n",
       "      <th>Age</th>\n",
       "      <th>Price</th>\n",
       "    </tr>\n",
       "  </thead>\n",
       "  <tbody>\n",
       "    <tr>\n",
       "      <th>0</th>\n",
       "      <td>2500</td>\n",
       "      <td>3.0</td>\n",
       "      <td>20</td>\n",
       "      <td>550000</td>\n",
       "    </tr>\n",
       "    <tr>\n",
       "      <th>1</th>\n",
       "      <td>3000</td>\n",
       "      <td>4.0</td>\n",
       "      <td>15</td>\n",
       "      <td>565000</td>\n",
       "    </tr>\n",
       "    <tr>\n",
       "      <th>2</th>\n",
       "      <td>3200</td>\n",
       "      <td>3.0</td>\n",
       "      <td>18</td>\n",
       "      <td>610000</td>\n",
       "    </tr>\n",
       "    <tr>\n",
       "      <th>3</th>\n",
       "      <td>3600</td>\n",
       "      <td>3.0</td>\n",
       "      <td>30</td>\n",
       "      <td>595000</td>\n",
       "    </tr>\n",
       "    <tr>\n",
       "      <th>4</th>\n",
       "      <td>4000</td>\n",
       "      <td>5.0</td>\n",
       "      <td>8</td>\n",
       "      <td>760000</td>\n",
       "    </tr>\n",
       "  </tbody>\n",
       "</table>\n",
       "</div>"
      ],
      "text/plain": [
       "   Area  Bedroom  Age   Price\n",
       "0  2500      3.0   20  550000\n",
       "1  3000      4.0   15  565000\n",
       "2  3200      3.0   18  610000\n",
       "3  3600      3.0   30  595000\n",
       "4  4000      5.0    8  760000"
      ]
     },
     "execution_count": 14,
     "metadata": {},
     "output_type": "execute_result"
    }
   ],
   "source": [
    "hp"
   ]
  },
  {
   "cell_type": "code",
   "execution_count": 16,
   "metadata": {},
   "outputs": [
    {
     "data": {
      "text/plain": [
       "LinearRegression()"
      ]
     },
     "execution_count": 16,
     "metadata": {},
     "output_type": "execute_result"
    }
   ],
   "source": [
    "\n",
    "#multiple regression\n",
    "reg=linear_model.LinearRegression()\n",
    "reg.fit(hp[['Area','Bedroom','Age']],hp.Price)"
   ]
  },
  {
   "cell_type": "code",
   "execution_count": 17,
   "metadata": {},
   "outputs": [
    {
     "data": {
      "text/plain": [
       "array([   123.5940919 , -20593.81838074,  -6445.56892779])"
      ]
     },
     "execution_count": 17,
     "metadata": {},
     "output_type": "execute_result"
    }
   ],
   "source": [
    "reg.coef_"
   ]
  },
  {
   "cell_type": "code",
   "execution_count": 18,
   "metadata": {},
   "outputs": [
    {
     "data": {
      "text/plain": [
       "404530.3610503279"
      ]
     },
     "execution_count": 18,
     "metadata": {},
     "output_type": "execute_result"
    }
   ],
   "source": [
    "reg.intercept_"
   ]
  },
  {
   "cell_type": "code",
   "execution_count": 19,
   "metadata": {},
   "outputs": [
    {
     "data": {
      "text/plain": [
       "array([455708.42450766])"
      ]
     },
     "execution_count": 19,
     "metadata": {},
     "output_type": "execute_result"
    }
   ],
   "source": [
    "#Predicting the price fornew values of independent variables\n",
    "reg.predict([[3000,3,40]])"
   ]
  },
  {
   "cell_type": "code",
   "execution_count": 20,
   "metadata": {},
   "outputs": [],
   "source": [
    "# new dATA SET"
   ]
  },
  {
   "cell_type": "code",
   "execution_count": 21,
   "metadata": {},
   "outputs": [],
   "source": [
    "#import libraries\n",
    "import pandas as pd\n",
    "import numpy as np\n",
    "import matplotlib.pyplot as plt\n",
    "from sklearn import linear_model"
   ]
  },
  {
   "cell_type": "code",
   "execution_count": 22,
   "metadata": {},
   "outputs": [],
   "source": [
    "avanti=pd.read_csv(\"F:/ANUJITH FILES/ASB FILES/ACAD-4/foundations of AIML/AvantiRD.csv\")\n"
   ]
  },
  {
   "cell_type": "code",
   "execution_count": 23,
   "metadata": {},
   "outputs": [
    {
     "data": {
      "text/html": [
       "<div>\n",
       "<style scoped>\n",
       "    .dataframe tbody tr th:only-of-type {\n",
       "        vertical-align: middle;\n",
       "    }\n",
       "\n",
       "    .dataframe tbody tr th {\n",
       "        vertical-align: top;\n",
       "    }\n",
       "\n",
       "    .dataframe thead th {\n",
       "        text-align: right;\n",
       "    }\n",
       "</style>\n",
       "<table border=\"1\" class=\"dataframe\">\n",
       "  <thead>\n",
       "    <tr style=\"text-align: right;\">\n",
       "      <th></th>\n",
       "      <th>Report Date</th>\n",
       "      <th>Sales</th>\n",
       "      <th>Raw Material Cost</th>\n",
       "      <th>Change in Inventory</th>\n",
       "      <th>Power and Fuel</th>\n",
       "      <th>Other Mfr. Exp</th>\n",
       "      <th>Employee Cost</th>\n",
       "      <th>Selling and admin</th>\n",
       "      <th>Other Expenses</th>\n",
       "      <th>Other Income</th>\n",
       "      <th>Depreciation</th>\n",
       "      <th>Interest</th>\n",
       "      <th>Profit before tax</th>\n",
       "      <th>Tax</th>\n",
       "      <th>Net profit</th>\n",
       "      <th>Dividend Amount</th>\n",
       "    </tr>\n",
       "  </thead>\n",
       "  <tbody>\n",
       "    <tr>\n",
       "      <th>0</th>\n",
       "      <td>2012-03-31</td>\n",
       "      <td>382.84</td>\n",
       "      <td>274.93</td>\n",
       "      <td>-4.17</td>\n",
       "      <td>10.85</td>\n",
       "      <td>9.07</td>\n",
       "      <td>15.84</td>\n",
       "      <td>26.53</td>\n",
       "      <td>-3.77</td>\n",
       "      <td>2.86</td>\n",
       "      <td>4.00</td>\n",
       "      <td>4.07</td>\n",
       "      <td>40.01</td>\n",
       "      <td>11.96</td>\n",
       "      <td>28.05</td>\n",
       "      <td>5.20</td>\n",
       "    </tr>\n",
       "    <tr>\n",
       "      <th>1</th>\n",
       "      <td>2013-03-31</td>\n",
       "      <td>626.33</td>\n",
       "      <td>516.33</td>\n",
       "      <td>19.36</td>\n",
       "      <td>19.12</td>\n",
       "      <td>13.91</td>\n",
       "      <td>21.64</td>\n",
       "      <td>43.26</td>\n",
       "      <td>-20.19</td>\n",
       "      <td>1.42</td>\n",
       "      <td>4.98</td>\n",
       "      <td>3.92</td>\n",
       "      <td>44.14</td>\n",
       "      <td>13.96</td>\n",
       "      <td>30.05</td>\n",
       "      <td>5.90</td>\n",
       "    </tr>\n",
       "    <tr>\n",
       "      <th>2</th>\n",
       "      <td>2014-03-31</td>\n",
       "      <td>1093.27</td>\n",
       "      <td>882.40</td>\n",
       "      <td>12.63</td>\n",
       "      <td>26.39</td>\n",
       "      <td>20.42</td>\n",
       "      <td>35.24</td>\n",
       "      <td>66.38</td>\n",
       "      <td>-36.46</td>\n",
       "      <td>3.57</td>\n",
       "      <td>5.54</td>\n",
       "      <td>4.39</td>\n",
       "      <td>105.17</td>\n",
       "      <td>35.42</td>\n",
       "      <td>70.41</td>\n",
       "      <td>13.62</td>\n",
       "    </tr>\n",
       "    <tr>\n",
       "      <th>3</th>\n",
       "      <td>2015-03-31</td>\n",
       "      <td>1708.65</td>\n",
       "      <td>1383.06</td>\n",
       "      <td>15.00</td>\n",
       "      <td>28.83</td>\n",
       "      <td>34.56</td>\n",
       "      <td>47.68</td>\n",
       "      <td>116.63</td>\n",
       "      <td>-69.44</td>\n",
       "      <td>8.98</td>\n",
       "      <td>8.80</td>\n",
       "      <td>2.67</td>\n",
       "      <td>179.84</td>\n",
       "      <td>63.27</td>\n",
       "      <td>115.92</td>\n",
       "      <td>24.97</td>\n",
       "    </tr>\n",
       "    <tr>\n",
       "      <th>4</th>\n",
       "      <td>2016-03-31</td>\n",
       "      <td>1935.32</td>\n",
       "      <td>1542.97</td>\n",
       "      <td>14.06</td>\n",
       "      <td>25.63</td>\n",
       "      <td>34.87</td>\n",
       "      <td>58.22</td>\n",
       "      <td>133.12</td>\n",
       "      <td>-76.76</td>\n",
       "      <td>20.46</td>\n",
       "      <td>10.23</td>\n",
       "      <td>3.38</td>\n",
       "      <td>238.18</td>\n",
       "      <td>79.20</td>\n",
       "      <td>157.50</td>\n",
       "      <td>31.78</td>\n",
       "    </tr>\n",
       "    <tr>\n",
       "      <th>5</th>\n",
       "      <td>2017-03-31</td>\n",
       "      <td>2615.74</td>\n",
       "      <td>2100.54</td>\n",
       "      <td>29.38</td>\n",
       "      <td>33.65</td>\n",
       "      <td>46.15</td>\n",
       "      <td>73.15</td>\n",
       "      <td>51.11</td>\n",
       "      <td>8.30</td>\n",
       "      <td>23.35</td>\n",
       "      <td>13.69</td>\n",
       "      <td>5.14</td>\n",
       "      <td>336.74</td>\n",
       "      <td>110.43</td>\n",
       "      <td>215.66</td>\n",
       "      <td>40.86</td>\n",
       "    </tr>\n",
       "    <tr>\n",
       "      <th>6</th>\n",
       "      <td>2018-03-31</td>\n",
       "      <td>3392.90</td>\n",
       "      <td>2485.18</td>\n",
       "      <td>75.50</td>\n",
       "      <td>49.35</td>\n",
       "      <td>84.04</td>\n",
       "      <td>110.97</td>\n",
       "      <td>43.68</td>\n",
       "      <td>10.68</td>\n",
       "      <td>48.55</td>\n",
       "      <td>23.76</td>\n",
       "      <td>4.79</td>\n",
       "      <td>704.50</td>\n",
       "      <td>238.02</td>\n",
       "      <td>446.47</td>\n",
       "      <td>54.48</td>\n",
       "    </tr>\n",
       "    <tr>\n",
       "      <th>7</th>\n",
       "      <td>2019-03-31</td>\n",
       "      <td>3487.78</td>\n",
       "      <td>2740.18</td>\n",
       "      <td>3.25</td>\n",
       "      <td>53.61</td>\n",
       "      <td>114.03</td>\n",
       "      <td>100.57</td>\n",
       "      <td>54.25</td>\n",
       "      <td>18.60</td>\n",
       "      <td>59.01</td>\n",
       "      <td>35.84</td>\n",
       "      <td>4.91</td>\n",
       "      <td>428.05</td>\n",
       "      <td>121.44</td>\n",
       "      <td>273.63</td>\n",
       "      <td>54.48</td>\n",
       "    </tr>\n",
       "    <tr>\n",
       "      <th>8</th>\n",
       "      <td>2020-03-31</td>\n",
       "      <td>4115.29</td>\n",
       "      <td>3299.37</td>\n",
       "      <td>35.20</td>\n",
       "      <td>59.31</td>\n",
       "      <td>131.38</td>\n",
       "      <td>113.92</td>\n",
       "      <td>65.27</td>\n",
       "      <td>24.87</td>\n",
       "      <td>70.58</td>\n",
       "      <td>37.71</td>\n",
       "      <td>4.38</td>\n",
       "      <td>484.86</td>\n",
       "      <td>98.57</td>\n",
       "      <td>346.49</td>\n",
       "      <td>69.46</td>\n",
       "    </tr>\n",
       "    <tr>\n",
       "      <th>9</th>\n",
       "      <td>2021-03-31</td>\n",
       "      <td>4100.56</td>\n",
       "      <td>3264.02</td>\n",
       "      <td>59.04</td>\n",
       "      <td>61.58</td>\n",
       "      <td>142.31</td>\n",
       "      <td>126.70</td>\n",
       "      <td>87.19</td>\n",
       "      <td>16.69</td>\n",
       "      <td>92.53</td>\n",
       "      <td>40.93</td>\n",
       "      <td>3.05</td>\n",
       "      <td>509.66</td>\n",
       "      <td>112.29</td>\n",
       "      <td>360.07</td>\n",
       "      <td>85.12</td>\n",
       "    </tr>\n",
       "  </tbody>\n",
       "</table>\n",
       "</div>"
      ],
      "text/plain": [
       "  Report Date    Sales  Raw Material Cost  Change in Inventory  \\\n",
       "0  2012-03-31   382.84             274.93                -4.17   \n",
       "1  2013-03-31   626.33             516.33                19.36   \n",
       "2  2014-03-31  1093.27             882.40                12.63   \n",
       "3  2015-03-31  1708.65            1383.06                15.00   \n",
       "4  2016-03-31  1935.32            1542.97                14.06   \n",
       "5  2017-03-31  2615.74            2100.54                29.38   \n",
       "6  2018-03-31  3392.90            2485.18                75.50   \n",
       "7  2019-03-31  3487.78            2740.18                 3.25   \n",
       "8  2020-03-31  4115.29            3299.37                35.20   \n",
       "9  2021-03-31  4100.56            3264.02                59.04   \n",
       "\n",
       "   Power and Fuel  Other Mfr. Exp  Employee Cost  Selling and admin  \\\n",
       "0           10.85            9.07          15.84              26.53   \n",
       "1           19.12           13.91          21.64              43.26   \n",
       "2           26.39           20.42          35.24              66.38   \n",
       "3           28.83           34.56          47.68             116.63   \n",
       "4           25.63           34.87          58.22             133.12   \n",
       "5           33.65           46.15          73.15              51.11   \n",
       "6           49.35           84.04         110.97              43.68   \n",
       "7           53.61          114.03         100.57              54.25   \n",
       "8           59.31          131.38         113.92              65.27   \n",
       "9           61.58          142.31         126.70              87.19   \n",
       "\n",
       "   Other Expenses  Other Income  Depreciation  Interest  Profit before tax  \\\n",
       "0           -3.77          2.86          4.00      4.07              40.01   \n",
       "1          -20.19          1.42          4.98      3.92              44.14   \n",
       "2          -36.46          3.57          5.54      4.39             105.17   \n",
       "3          -69.44          8.98          8.80      2.67             179.84   \n",
       "4          -76.76         20.46         10.23      3.38             238.18   \n",
       "5            8.30         23.35         13.69      5.14             336.74   \n",
       "6           10.68         48.55         23.76      4.79             704.50   \n",
       "7           18.60         59.01         35.84      4.91             428.05   \n",
       "8           24.87         70.58         37.71      4.38             484.86   \n",
       "9           16.69         92.53         40.93      3.05             509.66   \n",
       "\n",
       "      Tax  Net profit  Dividend Amount  \n",
       "0   11.96       28.05             5.20  \n",
       "1   13.96       30.05             5.90  \n",
       "2   35.42       70.41            13.62  \n",
       "3   63.27      115.92            24.97  \n",
       "4   79.20      157.50            31.78  \n",
       "5  110.43      215.66            40.86  \n",
       "6  238.02      446.47            54.48  \n",
       "7  121.44      273.63            54.48  \n",
       "8   98.57      346.49            69.46  \n",
       "9  112.29      360.07            85.12  "
      ]
     },
     "execution_count": 23,
     "metadata": {},
     "output_type": "execute_result"
    }
   ],
   "source": [
    "avanti"
   ]
  },
  {
   "cell_type": "code",
   "execution_count": 24,
   "metadata": {},
   "outputs": [
    {
     "name": "stdout",
     "output_type": "stream",
     "text": [
      "['Report Date' 'Sales' 'Raw Material Cost' 'Change in Inventory'\n",
      " 'Power and Fuel' 'Other Mfr. Exp' 'Employee Cost' 'Selling and admin'\n",
      " 'Other Expenses' 'Other Income' 'Depreciation' 'Interest'\n",
      " 'Profit before tax' 'Tax' 'Net profit' 'Dividend Amount']\n"
     ]
    }
   ],
   "source": [
    "print(avanti.columns.values)"
   ]
  },
  {
   "cell_type": "code",
   "execution_count": 25,
   "metadata": {},
   "outputs": [
    {
     "data": {
      "text/plain": [
       "LinearRegression()"
      ]
     },
     "execution_count": 25,
     "metadata": {},
     "output_type": "execute_result"
    }
   ],
   "source": [
    "#multiple regression\n",
    "reg=linear_model.LinearRegression()\n",
    "reg.fit(avanti[['Sales', 'Net profit']],avanti[['Dividend Amount']])"
   ]
  },
  {
   "cell_type": "code",
   "execution_count": null,
   "metadata": {},
   "outputs": [],
   "source": []
  }
 ],
 "metadata": {
  "kernelspec": {
   "display_name": "Python 3",
   "language": "python",
   "name": "python3"
  },
  "language_info": {
   "codemirror_mode": {
    "name": "ipython",
    "version": 3
   },
   "file_extension": ".py",
   "mimetype": "text/x-python",
   "name": "python",
   "nbconvert_exporter": "python",
   "pygments_lexer": "ipython3",
   "version": "3.8.5"
  }
 },
 "nbformat": 4,
 "nbformat_minor": 4
}
